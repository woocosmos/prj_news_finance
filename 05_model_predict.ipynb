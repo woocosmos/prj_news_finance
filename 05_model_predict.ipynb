{
 "cells": [
  {
   "cell_type": "code",
   "execution_count": 1,
   "metadata": {},
   "outputs": [],
   "source": [
    "import pandas as pd\n",
    "import numpy as np\n",
    "from tensorflow.keras.models import *\n",
    "from konlpy.tag import Okt\n",
    "import pickle\n",
    "from tensorflow.keras.preprocessing.sequence import pad_sequences\n",
    "pd.set_option('display.unicode.east_asian_width', True)"
   ]
  },
  {
   "cell_type": "code",
   "execution_count": 2,
   "metadata": {},
   "outputs": [
    {
     "name": "stdout",
     "output_type": "stream",
     "text": [
      "                                                      title category\n",
      "0       김종민  올해 수십조 이상 투입해야 할 수도             Policy\n",
      "1     금감원  비대면으로 설맞이 전통시장 물품 구입            Policy\n",
      "2   은행권  자산 증여받는  apos MZ세대 apos  잡아라  ......   Policy\n",
      "3        김용범 기재차관  양계 산업기반 회복 지원             Policy\n",
      "4         기보  인천 기술중소기업 1천억원 우대보증            Policy\n"
     ]
    },
    {
     "data": {
      "text/html": [
       "<div>\n",
       "<style scoped>\n",
       "    .dataframe tbody tr th:only-of-type {\n",
       "        vertical-align: middle;\n",
       "    }\n",
       "\n",
       "    .dataframe tbody tr th {\n",
       "        vertical-align: top;\n",
       "    }\n",
       "\n",
       "    .dataframe thead th {\n",
       "        text-align: right;\n",
       "    }\n",
       "</style>\n",
       "<table border=\"1\" class=\"dataframe\">\n",
       "  <thead>\n",
       "    <tr style=\"text-align: right;\">\n",
       "      <th></th>\n",
       "      <th>title</th>\n",
       "      <th>category</th>\n",
       "    </tr>\n",
       "  </thead>\n",
       "  <tbody>\n",
       "    <tr>\n",
       "      <th>0</th>\n",
       "      <td>김종민  올해 수십조 이상 투입해야 할 수도</td>\n",
       "      <td>Policy</td>\n",
       "    </tr>\n",
       "    <tr>\n",
       "      <th>1</th>\n",
       "      <td>금감원  비대면으로 설맞이 전통시장 물품 구입</td>\n",
       "      <td>Policy</td>\n",
       "    </tr>\n",
       "    <tr>\n",
       "      <th>2</th>\n",
       "      <td>은행권  자산 증여받는  apos MZ세대 apos  잡아라  ...</td>\n",
       "      <td>Policy</td>\n",
       "    </tr>\n",
       "    <tr>\n",
       "      <th>3</th>\n",
       "      <td>김용범 기재차관  양계 산업기반 회복 지원</td>\n",
       "      <td>Policy</td>\n",
       "    </tr>\n",
       "    <tr>\n",
       "      <th>4</th>\n",
       "      <td>기보  인천 기술중소기업 1천억원 우대보증</td>\n",
       "      <td>Policy</td>\n",
       "    </tr>\n",
       "    <tr>\n",
       "      <th>...</th>\n",
       "      <td>...</td>\n",
       "      <td>...</td>\n",
       "    </tr>\n",
       "    <tr>\n",
       "      <th>6983</th>\n",
       "      <td>홍대 상권도 코로나19 직격탄 카페 월매출 작년말보다 708만원    ...</td>\n",
       "      <td>Real_Estate</td>\n",
       "    </tr>\n",
       "    <tr>\n",
       "      <th>6984</th>\n",
       "      <td>국토硏  거래 늘어난다고 아파트값이 오르진 않아   ...</td>\n",
       "      <td>Real_Estate</td>\n",
       "    </tr>\n",
       "    <tr>\n",
       "      <th>6985</th>\n",
       "      <td>현대ENG  대만서 4천억 규모 발전소 증설공사 수주  ...</td>\n",
       "      <td>Real_Estate</td>\n",
       "    </tr>\n",
       "    <tr>\n",
       "      <th>6986</th>\n",
       "      <td>5년만에 재건축 수주전 뛰어든 삼성물산  계열사 총결집 협업   ...</td>\n",
       "      <td>Real_Estate</td>\n",
       "    </tr>\n",
       "    <tr>\n",
       "      <th>6987</th>\n",
       "      <td>LH  신혼희망타운 올해 8월부터 공급 12월 71  물량 집중  ...</td>\n",
       "      <td>Real_Estate</td>\n",
       "    </tr>\n",
       "  </tbody>\n",
       "</table>\n",
       "<p>6988 rows × 2 columns</p>\n",
       "</div>"
      ],
      "text/plain": [
       "                                                                      title  \\\n",
       "0          김종민  올해 수십조 이상 투입해야 할 수도                          \n",
       "1        금감원  비대면으로 설맞이 전통시장 물품 구입                         \n",
       "2      은행권  자산 증여받는  apos MZ세대 apos  잡아라  ......                \n",
       "3           김용범 기재차관  양계 산업기반 회복 지원                          \n",
       "4            기보  인천 기술중소기업 1천억원 우대보증                         \n",
       "...                                                 ...                       \n",
       "6983   홍대 상권도 코로나19 직격탄 카페 월매출 작년말보다 708만원    ......   \n",
       "6984   국토硏  거래 늘어난다고 아파트값이 오르진 않아   ......                \n",
       "6985   현대ENG  대만서 4천억 규모 발전소 증설공사 수주  ......                \n",
       "6986   5년만에 재건축 수주전 뛰어든 삼성물산  계열사 총결집 협업   ......     \n",
       "6987   LH  신혼희망타운 올해 8월부터 공급 12월 71  물량 집중  ......          \n",
       "\n",
       "         category  \n",
       "0          Policy  \n",
       "1          Policy  \n",
       "2          Policy  \n",
       "3          Policy  \n",
       "4          Policy  \n",
       "...           ...  \n",
       "6983  Real_Estate  \n",
       "6984  Real_Estate  \n",
       "6985  Real_Estate  \n",
       "6986  Real_Estate  \n",
       "6987  Real_Estate  \n",
       "\n",
       "[6988 rows x 2 columns]"
      ]
     },
     "execution_count": 2,
     "metadata": {},
     "output_type": "execute_result"
    }
   ],
   "source": [
    "df_test = pd.read_csv('./crawling/news_test_dataconcat.csv', index_col = 0)\n",
    "print(df_test.head())\n",
    "\n",
    "# dict_data = {'title':['김종민 \"올해 수십조 이상 투입해야 할 수도\"', '[서환] 글로벌 달러 강세에 1,120원대로 상승…2.30원↑', 'ANZ \"키위달러 예상외 약세…강달러 영향\"', '中 가전제품 제조사 메이디, 4천억 원 투자해 의료기기 사업 진입', '네이버, 라이브커머스 방송인 \"라이브스타\" 정식 계약', '2·4 부동산 대책 수혜주는…\"건설주 단기 센티먼트는 약화\"', '건설사들, 수도권 중심으로 분양 여건 개선 기대' ], \n",
    "#              'category':['Policy', 'Bond', 'Global_Economy', 'China_Economy', 'IB', 'Stock', 'Real_Estate' ]}\n",
    "# df_test = pd.DataFrame(dict_data)\n",
    "\n",
    " \n",
    "df_test"
   ]
  },
  {
   "cell_type": "code",
   "execution_count": 3,
   "metadata": {},
   "outputs": [],
   "source": [
    "stopwords = pd.read_csv('../datasets/stopwords.csv')"
   ]
  },
  {
   "cell_type": "code",
   "execution_count": 4,
   "metadata": {},
   "outputs": [],
   "source": [
    "model = load_model('./news_finance.h5')"
   ]
  },
  {
   "cell_type": "code",
   "execution_count": 5,
   "metadata": {},
   "outputs": [],
   "source": [
    "with open('./news_token.pickle', 'rb') as f:\n",
    "    token = pickle.load(f)"
   ]
  },
  {
   "cell_type": "code",
   "execution_count": 6,
   "metadata": {},
   "outputs": [
    {
     "name": "stdout",
     "output_type": "stream",
     "text": [
      "title        김용범 기재차관  양계 산업기반 회복 지원   \n",
      "category                                          Policy\n",
      "Name: 3, dtype: object\n"
     ]
    }
   ],
   "source": [
    "print(df_test.iloc[3])"
   ]
  },
  {
   "cell_type": "code",
   "execution_count": 7,
   "metadata": {},
   "outputs": [
    {
     "name": "stdout",
     "output_type": "stream",
     "text": [
      " 김용범 기재차관  양계 산업기반 회복 지원   \n",
      "김용범 기재 차관 양계 산업 기반 회복 지원\n"
     ]
    }
   ],
   "source": [
    "test_title = df_test.iloc[3]['title']\n",
    "print(test_title)\n",
    "\n",
    "okt = Okt()\n",
    "test_title = okt.morphs(test_title)\n",
    "result = []\n",
    "\n",
    "for i in range(len(test_title)):\n",
    "    if test_title[i] not in list(stopwords['stopword']):\n",
    "        result.append(test_title[i])\n",
    "test_title = result\n",
    "test_title = ' '.join(test_title)\n",
    "print(test_title)"
   ]
  },
  {
   "cell_type": "code",
   "execution_count": 8,
   "metadata": {},
   "outputs": [
    {
     "name": "stdout",
     "output_type": "stream",
     "text": [
      "[[   0    0    0    0    0    0    0    0    0    0  525  574  372  231\n",
      "  1011  108   89]]\n"
     ]
    }
   ],
   "source": [
    "# padding\n",
    "\n",
    "test_title = token.texts_to_sequences([test_title])\n",
    "test_title = pad_sequences(test_title, 17)\n",
    "print(test_title)"
   ]
  },
  {
   "cell_type": "code",
   "execution_count": 18,
   "metadata": {},
   "outputs": [
    {
     "name": "stdout",
     "output_type": "stream",
     "text": [
      "['Bond', 'China_Economy', 'Global_Economy', 'IB', 'Policy', 'Real_Estate', 'Stock']\n"
     ]
    }
   ],
   "source": [
    "label = ['Policy', 'Bond', 'Global_Economy', 'China_Economy', 'IB', 'Stock', 'Real_Estate']\n",
    "label.sort()\n",
    "print(label)"
   ]
  },
  {
   "cell_type": "code",
   "execution_count": 19,
   "metadata": {},
   "outputs": [
    {
     "name": "stdout",
     "output_type": "stream",
     "text": [
      "[[1.9086420e-04 4.4403521e-07 6.1469247e-05 2.4799777e-03 9.9634391e-01\n",
      "  1.1985544e-06 9.2216849e-04]]\n",
      "Policy\n"
     ]
    }
   ],
   "source": [
    "predict = model.predict(test_title)\n",
    "print(predict)\n",
    "print(label[np.argmax(predict)]) "
   ]
  },
  {
   "cell_type": "code",
   "execution_count": 20,
   "metadata": {
    "scrolled": true
   },
   "outputs": [],
   "source": [
    "# 하나씩 말고 전체 파일로 test하기\n",
    "# 데이터프레임 객체에서 인덱싱 -> 리스트화\n",
    "\n",
    "stopwords = list(pd.read_csv('../datasets/stopwords.csv')['stopword'])\n",
    "test_titles = []\n",
    "predicts = []\n",
    "\n",
    "for title in df_test['title']:\n",
    "    # 형태소\n",
    "    title = okt.morphs(title)\n",
    "    result = []\n",
    "    \n",
    "    # 불용어, 한 글자 처리\n",
    "    for word in title:\n",
    "        if (word not in stopwords) and len(word) > 1:\n",
    "            result.append(word)\n",
    "    title = result\n",
    "    title = ' '.join(title)\n",
    "    \n",
    "    # 토크나이징 (모델 기준 패딩)\n",
    "    title = token.texts_to_sequences([title])\n",
    "    title = pad_sequences(title, 17)\n",
    "    \n",
    "    # 예측\n",
    "    predict = model.predict(title)\n",
    "    predicts.append(label[np.argmax(predict)])"
   ]
  },
  {
   "cell_type": "code",
   "execution_count": 21,
   "metadata": {},
   "outputs": [
    {
     "name": "stdout",
     "output_type": "stream",
     "text": [
      "                                                      title category  \\\n",
      "0       김종민  올해 수십조 이상 투입해야 할 수도             Policy   \n",
      "1     금감원  비대면으로 설맞이 전통시장 물품 구입            Policy   \n",
      "2   은행권  자산 증여받는  apos MZ세대 apos  잡아라  ......   Policy   \n",
      "3        김용범 기재차관  양계 산업기반 회복 지원             Policy   \n",
      "4         기보  인천 기술중소기업 1천억원 우대보증            Policy   \n",
      "\n",
      "       predict OX  \n",
      "0           IB  X  \n",
      "1       Policy  X  \n",
      "2       Policy  X  \n",
      "3       Policy  X  \n",
      "4  Real_Estate  X  \n"
     ]
    }
   ],
   "source": [
    "# 예측 결과를 새로운 칼럼으로 추가\n",
    "df_test['predict'] = predicts\n",
    "print(df_test.head())"
   ]
  },
  {
   "cell_type": "code",
   "execution_count": 22,
   "metadata": {},
   "outputs": [
    {
     "name": "stderr",
     "output_type": "stream",
     "text": [
      "C:\\Users\\698\\anaconda3\\envs\\AI_dev_env\\lib\\site-packages\\ipykernel_launcher.py:8: SettingWithCopyWarning: \n",
      "A value is trying to be set on a copy of a slice from a DataFrame\n",
      "\n",
      "See the caveats in the documentation: https://pandas.pydata.org/pandas-docs/stable/user_guide/indexing.html#returning-a-view-versus-a-copy\n",
      "  \n",
      "C:\\Users\\698\\anaconda3\\envs\\AI_dev_env\\lib\\site-packages\\pandas\\core\\indexing.py:670: SettingWithCopyWarning: \n",
      "A value is trying to be set on a copy of a slice from a DataFrame\n",
      "\n",
      "See the caveats in the documentation: https://pandas.pydata.org/pandas-docs/stable/user_guide/indexing.html#returning-a-view-versus-a-copy\n",
      "  iloc._setitem_with_indexer(indexer, value)\n"
     ]
    },
    {
     "name": "stdout",
     "output_type": "stream",
     "text": [
      "                                                                      title  \\\n",
      "0          김종민  올해 수십조 이상 투입해야 할 수도                          \n",
      "1        금감원  비대면으로 설맞이 전통시장 물품 구입                         \n",
      "2      은행권  자산 증여받는  apos MZ세대 apos  잡아라  ......                \n",
      "3           김용범 기재차관  양계 산업기반 회복 지원                          \n",
      "4            기보  인천 기술중소기업 1천억원 우대보증                         \n",
      "...                                                 ...                       \n",
      "6983   홍대 상권도 코로나19 직격탄 카페 월매출 작년말보다 708만원    ......   \n",
      "6984   국토硏  거래 늘어난다고 아파트값이 오르진 않아   ......                \n",
      "6985   현대ENG  대만서 4천억 규모 발전소 증설공사 수주  ......                \n",
      "6986   5년만에 재건축 수주전 뛰어든 삼성물산  계열사 총결집 협업   ......     \n",
      "6987   LH  신혼희망타운 올해 8월부터 공급 12월 71  물량 집중  ......          \n",
      "\n",
      "         category      predict OX  \n",
      "0          Policy           IB  X  \n",
      "1          Policy       Policy  O  \n",
      "2          Policy       Policy  O  \n",
      "3          Policy       Policy  O  \n",
      "4          Policy  Real_Estate  X  \n",
      "...           ...          ... ..  \n",
      "6983  Real_Estate  Real_Estate  O  \n",
      "6984  Real_Estate  Real_Estate  O  \n",
      "6985  Real_Estate  Real_Estate  O  \n",
      "6986  Real_Estate  Real_Estate  O  \n",
      "6987  Real_Estate  Real_Estate  O  \n",
      "\n",
      "[6988 rows x 4 columns]\n"
     ]
    }
   ],
   "source": [
    "# 맞으면 O, 틀리면 X 표시하는 칼럼 추가\n",
    "\n",
    "df_test['OX'] = 0\n",
    "for i in range(len(df_test.predict)):\n",
    "    if df_test.category[i] == df_test.predict[i]:\n",
    "        df_test.OX[i] = 'O'\n",
    "    else:\n",
    "        df_test.OX[i] = 'X'\n",
    "print(df_test)"
   ]
  },
  {
   "cell_type": "code",
   "execution_count": 23,
   "metadata": {},
   "outputs": [
    {
     "data": {
      "text/plain": [
       "0.8986834573554665"
      ]
     },
     "execution_count": 23,
     "metadata": {},
     "output_type": "execute_result"
    }
   ],
   "source": [
    "# 얼마나 맞히고 틀렸는지\n",
    "df_test.OX.value_counts()\n",
    "\n",
    "# O만 세기\n",
    "df_test.OX.value_counts()['O']\n",
    "\n",
    "# 정답률\n",
    "df_test.OX.value_counts()['O']/len(df_test.OX)"
   ]
  },
  {
   "cell_type": "code",
   "execution_count": 24,
   "metadata": {},
   "outputs": [
    {
     "data": {
      "text/plain": [
       "89.86834573554665"
      ]
     },
     "execution_count": 24,
     "metadata": {},
     "output_type": "execute_result"
    }
   ],
   "source": [
    "df_test.OX.value_counts(normalize=True)['O'] * 100"
   ]
  }
 ],
 "metadata": {
  "kernelspec": {
   "display_name": "Python 3",
   "language": "python",
   "name": "python3"
  },
  "language_info": {
   "codemirror_mode": {
    "name": "ipython",
    "version": 3
   },
   "file_extension": ".py",
   "mimetype": "text/x-python",
   "name": "python",
   "nbconvert_exporter": "python",
   "pygments_lexer": "ipython3",
   "version": "3.7.9"
  }
 },
 "nbformat": 4,
 "nbformat_minor": 4
}
