{
 "cells": [
  {
   "cell_type": "code",
   "execution_count": 38,
   "metadata": {},
   "outputs": [],
   "source": [
    "import pandas as pd\n",
    "import numpy as np\n",
    "from tensorflow.keras.models import *\n",
    "from konlpy.tag import Okt\n",
    "import pickle\n",
    "from tensorflow.keras.preprocessing.sequence import pad_sequences\n",
    "pd.set_option('display.unicode.east_asian_width', True)"
   ]
  },
  {
   "cell_type": "code",
   "execution_count": 39,
   "metadata": {},
   "outputs": [
    {
     "name": "stdout",
     "output_type": "stream",
     "text": [
      "                                                                         title  \\\n",
      "0                                                                                \n",
      "1             대단지 대세 열풍에  e편한세상 영종국제도시 센텀베뉴 까지 가세...   \n",
      "2             포스코건설  거제시에  더샵거제디클리브  아파트 3월 분양   ...      \n",
      "3             인천 서구의원들  검단 일원 개발행위허가제한에 반대 성명 발표 ...   \n",
      "4             주택공급대책에 수도권 광역시 분양경기 기대감 유지        ...       \n",
      "\n",
      "      category  \n",
      "0  Real_Estate  \n",
      "1  Real_Estate  \n",
      "2  Real_Estate  \n",
      "3  Real_Estate  \n",
      "4  Real_Estate  \n"
     ]
    }
   ],
   "source": [
    "df_test = pd.read_csv('./crawling/test_naver_news_02.csv', index_col = 0)\n",
    "df_test['category'] = 'Real_Estate'\n",
    "print(df_test.head())\n"
   ]
  },
  {
   "cell_type": "code",
   "execution_count": 40,
   "metadata": {},
   "outputs": [],
   "source": [
    "stopwords = pd.read_csv('../datasets/stopwords.csv')"
   ]
  },
  {
   "cell_type": "code",
   "execution_count": 41,
   "metadata": {},
   "outputs": [],
   "source": [
    "model = load_model('./news_finance.h5')"
   ]
  },
  {
   "cell_type": "code",
   "execution_count": 42,
   "metadata": {},
   "outputs": [],
   "source": [
    "with open('./news_token.pickle', 'rb') as f:\n",
    "    token = pickle.load(f)"
   ]
  },
  {
   "cell_type": "code",
   "execution_count": 43,
   "metadata": {},
   "outputs": [
    {
     "name": "stdout",
     "output_type": "stream",
     "text": [
      "title                  강남권 재건축 아파트값 상승률  12 19대책 이후 최고    ...\n",
      "category                                          Real_Estate\n",
      "Name: 7, dtype: object\n"
     ]
    }
   ],
   "source": [
    "print(df_test.iloc[7])"
   ]
  },
  {
   "cell_type": "code",
   "execution_count": 44,
   "metadata": {},
   "outputs": [
    {
     "name": "stdout",
     "output_type": "stream",
     "text": [
      "           인천 서구의원들  검단 일원 개발행위허가제한에 반대 성명 발표          \n",
      "인천 서 의원 검단 일원 개발 행위 허가 제한 반대 성명 발표\n"
     ]
    }
   ],
   "source": [
    "test_title = df_test.iloc[3]['title']\n",
    "print(test_title)\n",
    "\n",
    "okt = Okt()\n",
    "test_title = okt.morphs(test_title)\n",
    "result = []\n",
    "\n",
    "for i in range(len(test_title)):\n",
    "    if test_title[i] not in list(stopwords['stopword']):\n",
    "        result.append(test_title[i])\n",
    "test_title = result\n",
    "test_title = ' '.join(test_title)\n",
    "print(test_title)"
   ]
  },
  {
   "cell_type": "code",
   "execution_count": 45,
   "metadata": {},
   "outputs": [
    {
     "name": "stdout",
     "output_type": "stream",
     "text": [
      "[[   0    0    0    0    0    0 1116    7 1432 9551  197 1669  610  184\n",
      "  1230 3138  242]]\n"
     ]
    }
   ],
   "source": [
    "# padding\n",
    "\n",
    "test_title = token.texts_to_sequences([test_title])\n",
    "test_title = pad_sequences(test_title, 17)\n",
    "print(test_title)"
   ]
  },
  {
   "cell_type": "code",
   "execution_count": 46,
   "metadata": {},
   "outputs": [
    {
     "name": "stdout",
     "output_type": "stream",
     "text": [
      "['Bond', 'China_Economy', 'Global_Economy', 'IB', 'Policy', 'Real_Estate', 'Stock']\n"
     ]
    }
   ],
   "source": [
    "label = ['Policy', 'Bond', 'Global_Economy', 'China_Economy', 'IB', 'Stock', 'Real_Estate']\n",
    "label.sort()\n",
    "print(label)"
   ]
  },
  {
   "cell_type": "code",
   "execution_count": 47,
   "metadata": {},
   "outputs": [
    {
     "name": "stdout",
     "output_type": "stream",
     "text": [
      "[[0.00268742 0.36334613 0.0244261  0.01522396 0.00336063 0.59002256\n",
      "  0.00093322]]\n",
      "Real_Estate\n"
     ]
    }
   ],
   "source": [
    "predict = model.predict(test_title)\n",
    "print(predict)\n",
    "print(label[np.argmax(predict)]) "
   ]
  },
  {
   "cell_type": "code",
   "execution_count": 48,
   "metadata": {
    "scrolled": true
   },
   "outputs": [],
   "source": [
    "# 하나씩 말고 전체 파일로 test하기\n",
    "# 데이터프레임 객체에서 인덱싱 -> 리스트화\n",
    "\n",
    "stopwords = list(pd.read_csv('../datasets/stopwords.csv')['stopword'])\n",
    "test_titles = []\n",
    "predicts = []\n",
    "\n",
    "for title in df_test['title']:\n",
    "    # 형태소\n",
    "    title = okt.morphs(title)\n",
    "    result = []\n",
    "    \n",
    "    # 불용어, 한 글자 처리\n",
    "    for word in title:\n",
    "        if (word not in stopwords) and len(word) > 1:\n",
    "            result.append(word)\n",
    "    title = result\n",
    "    title = ' '.join(title)\n",
    "    \n",
    "    # 토크나이징 (모델 기준 패딩)\n",
    "    title = token.texts_to_sequences([title])\n",
    "    title = pad_sequences(title, 17)\n",
    "    \n",
    "    # 예측\n",
    "    predict = model.predict(title)\n",
    "    predicts.append(label[np.argmax(predict)])"
   ]
  },
  {
   "cell_type": "code",
   "execution_count": 49,
   "metadata": {},
   "outputs": [
    {
     "name": "stdout",
     "output_type": "stream",
     "text": [
      "                                                                         title  \\\n",
      "0                                                                                \n",
      "1             대단지 대세 열풍에  e편한세상 영종국제도시 센텀베뉴 까지 가세...   \n",
      "2             포스코건설  거제시에  더샵거제디클리브  아파트 3월 분양   ...      \n",
      "3             인천 서구의원들  검단 일원 개발행위허가제한에 반대 성명 발표 ...   \n",
      "4             주택공급대책에 수도권 광역시 분양경기 기대감 유지        ...       \n",
      "\n",
      "      category      predict  \n",
      "0  Real_Estate       Policy  \n",
      "1  Real_Estate  Real_Estate  \n",
      "2  Real_Estate  Real_Estate  \n",
      "3  Real_Estate  Real_Estate  \n",
      "4  Real_Estate  Real_Estate  \n"
     ]
    }
   ],
   "source": [
    "# 예측 결과를 새로운 칼럼으로 추가\n",
    "df_test['predict'] = predicts\n",
    "print(df_test.head())"
   ]
  },
  {
   "cell_type": "code",
   "execution_count": 50,
   "metadata": {},
   "outputs": [
    {
     "name": "stdout",
     "output_type": "stream",
     "text": [
      "                                                                          title  \\\n",
      "0                                                                                 \n",
      "1              대단지 대세 열풍에  e편한세상 영종국제도시 센텀베뉴 까지 가세...   \n",
      "2              포스코건설  거제시에  더샵거제디클리브  아파트 3월 분양   ...      \n",
      "3              인천 서구의원들  검단 일원 개발행위허가제한에 반대 성명 발표 ...   \n",
      "4              주택공급대책에 수도권 광역시 분양경기 기대감 유지        ...       \n",
      "..                                                                      ...       \n",
      "85             맨땅에 숨겨진 미래가치  미래의 부촌 도시개발 각광       ...        \n",
      "86             한화포레나수원장안 1천63가구 분양 3 3 당 1천843만원  ...           \n",
      "87              가야산 한라비발디 프리미어  잔여 세대 계약 실시       ...         \n",
      "88             한국주택협회  무의탁 노인 요양시설에 후원금          ....          \n",
      "89              허위 계약으로 아파트 신고가  실체 알고보니   팩트체크   ...       \n",
      "\n",
      "       category      predict OX  \n",
      "0   Real_Estate       Policy  X  \n",
      "1   Real_Estate  Real_Estate  O  \n",
      "2   Real_Estate  Real_Estate  O  \n",
      "3   Real_Estate  Real_Estate  O  \n",
      "4   Real_Estate  Real_Estate  O  \n",
      "..          ...          ... ..  \n",
      "85  Real_Estate           IB  X  \n",
      "86  Real_Estate  Real_Estate  O  \n",
      "87  Real_Estate  Real_Estate  O  \n",
      "88  Real_Estate  Real_Estate  O  \n",
      "89  Real_Estate  Real_Estate  O  \n",
      "\n",
      "[90 rows x 4 columns]\n"
     ]
    },
    {
     "name": "stderr",
     "output_type": "stream",
     "text": [
      "C:\\Users\\698\\anaconda3\\envs\\AI_dev_env\\lib\\site-packages\\ipykernel_launcher.py:8: SettingWithCopyWarning: \n",
      "A value is trying to be set on a copy of a slice from a DataFrame\n",
      "\n",
      "See the caveats in the documentation: https://pandas.pydata.org/pandas-docs/stable/user_guide/indexing.html#returning-a-view-versus-a-copy\n",
      "  \n",
      "C:\\Users\\698\\anaconda3\\envs\\AI_dev_env\\lib\\site-packages\\pandas\\core\\indexing.py:670: SettingWithCopyWarning: \n",
      "A value is trying to be set on a copy of a slice from a DataFrame\n",
      "\n",
      "See the caveats in the documentation: https://pandas.pydata.org/pandas-docs/stable/user_guide/indexing.html#returning-a-view-versus-a-copy\n",
      "  iloc._setitem_with_indexer(indexer, value)\n"
     ]
    }
   ],
   "source": [
    "# 맞으면 O, 틀리면 X 표시하는 칼럼 추가\n",
    "\n",
    "df_test['OX'] = 0\n",
    "for i in range(len(df_test.predict)):\n",
    "    if df_test.category[i] == df_test.predict[i]:\n",
    "        df_test.OX[i] = 'O'\n",
    "    else:\n",
    "        df_test.OX[i] = 'X'\n",
    "print(df_test)"
   ]
  },
  {
   "cell_type": "code",
   "execution_count": 51,
   "metadata": {},
   "outputs": [
    {
     "data": {
      "text/plain": [
       "0.7888888888888889"
      ]
     },
     "execution_count": 51,
     "metadata": {},
     "output_type": "execute_result"
    }
   ],
   "source": [
    "# 얼마나 맞히고 틀렸는지\n",
    "df_test.OX.value_counts()\n",
    "\n",
    "# O만 세기\n",
    "df_test.OX.value_counts()['O']\n",
    "\n",
    "# 정답률\n",
    "df_test.OX.value_counts()['O']/len(df_test.OX)"
   ]
  },
  {
   "cell_type": "code",
   "execution_count": 52,
   "metadata": {},
   "outputs": [
    {
     "data": {
      "text/plain": [
       "Real_Estate       71\n",
       "IB                13\n",
       "Policy             3\n",
       "Global_Economy     2\n",
       "Stock              1\n",
       "Name: predict, dtype: int64"
      ]
     },
     "execution_count": 52,
     "metadata": {},
     "output_type": "execute_result"
    }
   ],
   "source": [
    "df_test.predict.value_counts()"
   ]
  },
  {
   "cell_type": "code",
   "execution_count": 53,
   "metadata": {},
   "outputs": [
    {
     "data": {
      "text/plain": [
       "78.88888888888889"
      ]
     },
     "execution_count": 53,
     "metadata": {},
     "output_type": "execute_result"
    }
   ],
   "source": [
    "df_test.OX.value_counts(normalize=True)['O'] * 100"
   ]
  },
  {
   "cell_type": "code",
   "execution_count": 18,
   "metadata": {},
   "outputs": [],
   "source": [
    "df_test.to_csv('./naver_result.csv')"
   ]
  }
 ],
 "metadata": {
  "kernelspec": {
   "display_name": "Python 3",
   "language": "python",
   "name": "python3"
  },
  "language_info": {
   "codemirror_mode": {
    "name": "ipython",
    "version": 3
   },
   "file_extension": ".py",
   "mimetype": "text/x-python",
   "name": "python",
   "nbconvert_exporter": "python",
   "pygments_lexer": "ipython3",
   "version": "3.7.9"
  }
 },
 "nbformat": 4,
 "nbformat_minor": 4
}
